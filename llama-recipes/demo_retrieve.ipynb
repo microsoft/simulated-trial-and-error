{
 "cells": [
  {
   "cell_type": "code",
   "execution_count": null,
   "metadata": {},
   "outputs": [],
   "source": [
    "import os\n",
    "import numpy as np\n",
    "import torch\n",
    "import json\n",
    "from tqdm import tqdm"
   ]
  },
  {
   "cell_type": "code",
   "execution_count": null,
   "metadata": {},
   "outputs": [],
   "source": [
    "with open(\"ft_datasets/tool_data_train_STE_full.json\") as f:\n",
    "    train_data = json.load(f)\n",
    "\n",
    "with open(\"ft_datasets/tool_test.json\") as f:\n",
    "    test_data = json.load(f)\n",
    "    \n",
    "with open(\"ft_datasets/api2neighbors.json\", \"r\", encoding='utf-8') as f:\n",
    "    api2neighbors = json.load(f)\n",
    "    \n",
    "with open(\"ft_datasets/API_descriptions.json\") as f:\n",
    "    API_descriptions = json.load(f)\n",
    "\n",
    "with open(\"ft_datasets/tool_test.json\") as f:\n",
    "    all_apis = list(test_data.keys())\n",
    "\n",
    "train_items, train_queries = [], []\n",
    "for item in train_data:\n",
    "    query = item['query']\n",
    "    if query not in train_queries:\n",
    "        train_queries.append(query)\n",
    "        train_items.append(item)"
   ]
  },
  {
   "cell_type": "code",
   "execution_count": null,
   "metadata": {},
   "outputs": [],
   "source": [
    "from sentence_transformers import SentenceTransformer, util\n",
    "model = SentenceTransformer('sentence-transformers/paraphrase-mpnet-base-v2')\n",
    "\n",
    "train_query_embeddings = model.encode(train_queries, convert_to_tensor=True)"
   ]
  },
  {
   "cell_type": "code",
   "execution_count": null,
   "metadata": {},
   "outputs": [],
   "source": [
    "num_examples_retrieve = 8\n",
    "for key in test_data:\n",
    "    print(key)\n",
    "    examples = test_data[key]\n",
    "    for i in tqdm(range(len(examples))):\n",
    "        item = examples[i]\n",
    "        test_query_embedding = model.encode([item['query']], convert_to_tensor=True)\n",
    "        cosine_scores = util.cos_sim(test_query_embedding, train_query_embeddings)[0]\n",
    "        pairs = []\n",
    "        for j in range(len(cosine_scores)):\n",
    "            pairs.append({'index': j, 'score': cosine_scores[j]})\n",
    "        pairs = sorted(pairs, key=lambda x: x['score'], reverse=True)\n",
    "        item['demo'] = [train_items[var['index']] for var in pairs[:num_examples_retrieve]]\n",
    "\n",
    "        examples[i] = item\n",
    "    test_data[key] = examples"
   ]
  },
  {
   "cell_type": "code",
   "execution_count": null,
   "metadata": {},
   "outputs": [],
   "source": [
    "with open(\"ft_datasets/tool_data_test_with_demo.json\", \"w\", encoding='utf-8') as f:\n",
    "    json.dump(test_data, f)"
   ]
  },
  {
   "cell_type": "code",
   "execution_count": null,
   "metadata": {},
   "outputs": [],
   "source": []
  },
  {
   "cell_type": "code",
   "execution_count": null,
   "metadata": {},
   "outputs": [],
   "source": [
    "for key in test_data:\n",
    "    # oracle tool retriever\n",
    "    tool_list = api2neighbors[key]\n",
    "    api_descriptions = \"\\n\\n\".join([\"API_name: {}\\nDescription: {}\".format(API_name, API_descriptions[API_name]) for API_name in tool_list])\n",
    "\n",
    "    examples = test_data[key]\n",
    "    for i in range(len(examples)):\n",
    "        item = examples[i]\n",
    "\n",
    "        prompt = prompt_template.format(api_descriptions=api_descriptions, api_names=\"\\n\".join(tool_list))\n",
    "\n",
    "        prompt = prompt + \"\\n\\nUser Query: \" + item['query']\n",
    "\n",
    "        dialog = [\n",
    "            {\"role\": \"system\", \"content\": \"You are a helpful assistant.\"},\n",
    "            {\"role\": \"user\", \"content\": prompt}\n",
    "        ]\n",
    "\n",
    "        item['dialog_history'] = dialog\n",
    "        examples[i] = item\n",
    "    test_data[key] = examples\n",
    "\n",
    "with open(\"ft_datasets/tool_test_OTR.json\", \"w\") as f:\n",
    "    json.dump(test_data, f)"
   ]
  },
  {
   "cell_type": "code",
   "execution_count": null,
   "metadata": {},
   "outputs": [],
   "source": [
    "for key in test_data:\n",
    "    tool_list = api2neighbors[key]\n",
    "    api_descriptions = \"\\n\\n\".join([\"API_name: {}\\nDescription: {}\".format(API_name, API_descriptions[API_name]) for API_name in tool_list])\n",
    "\n",
    "    examples = test_data[key]\n",
    "    for i in range(len(examples)):\n",
    "        item = examples[i]\n",
    "\n",
    "        prompt = prompt_template.format(api_descriptions=api_descriptions, api_names=\"\\n\".join(tool_list))\n",
    "\n",
    "        # demonstration\n",
    "        demo_examples = item['demo']\n",
    "\n",
    "        prompt = prompt + \"\\n\\nBelow are some examples:\\n\\n\" + \\\n",
    "            \"---\\n\".join([\"User Query: {}\\nAction: {}\\nAction Input: {}\\n\".format(demo['query'], demo['action'], demo['action_input']) for demo in demo_examples]) + \\\n",
    "            \"Now it's your turn.\\n\\nUser Query: \" + item['query']\n",
    "\n",
    "        dialog = [\n",
    "            {\"role\": \"system\", \"content\": \"You are a helpful assistant.\"},\n",
    "            {\"role\": \"user\", \"content\": prompt}\n",
    "        ]\n",
    "\n",
    "        item['dialog_history'] = dialog\n",
    "        examples[i] = item\n",
    "    test_data[key] = examples\n",
    "\n",
    "with open(\"ft_datasets/tool_test_OTR_DR.json\", \"w\") as f:\n",
    "    json.dump(test_data, f)"
   ]
  }
 ],
 "metadata": {
  "kernelspec": {
   "display_name": "Python 3 (ipykernel)",
   "language": "python",
   "name": "python3"
  },
  "language_info": {
   "codemirror_mode": {
    "name": "ipython",
    "version": 3
   },
   "file_extension": ".py",
   "mimetype": "text/x-python",
   "name": "python",
   "nbconvert_exporter": "python",
   "pygments_lexer": "ipython3",
   "version": "3.10.13"
  }
 },
 "nbformat": 4,
 "nbformat_minor": 2
}
